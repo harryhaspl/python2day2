{
 "cells": [
  {
   "cell_type": "markdown",
   "metadata": {},
   "source": [
    "Please make a class called Home that has 5 variables. The variables/attributes should be price, rooms, size, bathrooms, location. Please add a method/function that will display or print the information out nicely and neatly."
   ]
  },
  {
   "cell_type": "code",
   "execution_count": 1,
   "metadata": {},
   "outputs": [],
   "source": [
    "class Home():\n",
    "    def __init__(self, price, rooms, size, bathroom, location):\n",
    "        self.price = price\n",
    "        self.rooms = rooms\n",
    "        self.size = size\n",
    "        self.bathroom = bathroom\n",
    "        self.location = location\n",
    "        \n",
    "    def printNicely(self):\n",
    "        print(f\"This nice apartment is located in {self.location},\\nit has {self.rooms} rooms and {self.bathroom} bathrooms,\\na total size of {self.size} sqft,\\nand it costs ${self.price}.\")\n",
    "        "
   ]
  },
  {
   "cell_type": "markdown",
   "metadata": {},
   "source": [
    "Please create an instance of the Home class and give it 300000 for the price, 4 rooms, 4500 sqft, 3.5 bathrooms, and Cloverly,Maryland for the location. Please use your function to print out the information for yourself."
   ]
  },
  {
   "cell_type": "code",
   "execution_count": 2,
   "metadata": {},
   "outputs": [
    {
     "name": "stdout",
     "output_type": "stream",
     "text": [
      "This nice apartment is located in Cloverly, MD,\n",
      "it has 4 rooms and 3.5 bathrooms,\n",
      "a total size of 4500 sqft,\n",
      "and it costs $300000.\n"
     ]
    }
   ],
   "source": [
    "myHome = Home(300000, 4, 4500, 3.5, \"Cloverly, MD\")\n",
    "myHome.printNicely()"
   ]
  },
  {
   "cell_type": "markdown",
   "metadata": {},
   "source": [
    "Please change the attribute called rooms from 4 to 4.5 now. and Print out the information again."
   ]
  },
  {
   "cell_type": "code",
   "execution_count": 3,
   "metadata": {},
   "outputs": [
    {
     "name": "stdout",
     "output_type": "stream",
     "text": [
      "This nice apartment is located in Cloverly, MD,\n",
      "it has 4.5 rooms and 3.5 bathrooms,\n",
      "a total size of 4500 sqft,\n",
      "and it costs $300000.\n"
     ]
    }
   ],
   "source": [
    "myHome.rooms = 4.5\n",
    "myHome.printNicely()"
   ]
  },
  {
   "cell_type": "markdown",
   "metadata": {},
   "source": [
    "Please create a class called Friend with 2 variables. called name and called relationship which is the relationship to you.\n",
    "Please create a class called Me with 3 variables. your name,last name, and friends."
   ]
  },
  {
   "cell_type": "code",
   "execution_count": 4,
   "metadata": {},
   "outputs": [],
   "source": [
    "class Friend():\n",
    "    def __init__(self, name, relationship):\n",
    "        self.name = name\n",
    "        self.relationship = relationship\n",
    "    \n",
    "class Me():\n",
    "    def __init__(self, name, lastname):\n",
    "        self.name = name\n",
    "        self.lastname = lastname\n",
    "        self.friends = []"
   ]
  },
  {
   "cell_type": "markdown",
   "metadata": {},
   "source": [
    "Make an 3 instances of the friend class and one instance of the Me class. Please add each of your friends into the friends variable. (Hint think of an empty list for the contructor)"
   ]
  },
  {
   "cell_type": "code",
   "execution_count": 5,
   "metadata": {},
   "outputs": [
    {
     "name": "stdout",
     "output_type": "stream",
     "text": [
      "Masako\n",
      "Barbara\n",
      "Verena\n"
     ]
    }
   ],
   "source": [
    "masako = Friend(\"Masako\", \"wife\")\n",
    "barbara = Friend(\"Barbara\", \"sister\")\n",
    "verena = Friend(\"Verena\", \"co-worker\")\n",
    "\n",
    "harry = Me(\"Harald\", \"Haspl\")\n",
    "\n",
    "harry.friends.append(masako)\n",
    "harry.friends.append(barbara)\n",
    "harry.friends.append(verena)\n",
    "\n",
    "for f in harry.friends:\n",
    "    print(f.name)"
   ]
  },
  {
   "cell_type": "markdown",
   "metadata": {},
   "source": [
    "Make a class called Wonky. wonky has 2 variables is_sleeping and is_happy.\n",
    "Include 2 functions called sleep, wake_up.\n",
    "sleep function should change your is_sleeping to True and is_happy to True\n",
    "wake_up function should change is_sleeping to False and is_happy to False"
   ]
  },
  {
   "cell_type": "code",
   "execution_count": 6,
   "metadata": {},
   "outputs": [],
   "source": [
    "class Wonky():\n",
    "    def __init__(self):\n",
    "        self.sleep()\n",
    "    \n",
    "    def sleep(self):\n",
    "        self.is_sleeping = True\n",
    "        self.is_happy = True\n",
    "        \n",
    "    def wake_up(self):\n",
    "        self.is_sleeping = False\n",
    "        self.is_happy = False"
   ]
  },
  {
   "cell_type": "markdown",
   "metadata": {},
   "source": [
    "Make an instance called w and make him go to sleep. Print out what those values are when you make w go to sleep."
   ]
  },
  {
   "cell_type": "code",
   "execution_count": 7,
   "metadata": {},
   "outputs": [
    {
     "name": "stdout",
     "output_type": "stream",
     "text": [
      "sleeping: True happy True\n"
     ]
    }
   ],
   "source": [
    "w = Wonky()\n",
    "w.sleep()\n",
    "w.wake_up()\n",
    "w.sleep()\n",
    "print(\"sleeping:\", w.is_sleeping, \"happy\", w.is_happy)"
   ]
  },
  {
   "cell_type": "markdown",
   "metadata": {},
   "source": [
    "Make a try except for a Zerodivision exception. And try it out"
   ]
  },
  {
   "cell_type": "code",
   "execution_count": 8,
   "metadata": {},
   "outputs": [
    {
     "name": "stdout",
     "output_type": "stream",
     "text": [
      "the result is undefined because you divided by 00000000!!!!!!\n"
     ]
    }
   ],
   "source": [
    "x = 5\n",
    "y = 0\n",
    "try:\n",
    "    z = x / y\n",
    "    print(\"the result is:\", z)\n",
    "except ZeroDivisionError:\n",
    "    print(\"the result is undefined because you divided by 00000000!!!!!!\")"
   ]
  },
  {
   "cell_type": "raw",
   "metadata": {},
   "source": [
    "Make a try except with a general exception and a else statement. "
   ]
  },
  {
   "cell_type": "code",
   "execution_count": 9,
   "metadata": {},
   "outputs": [
    {
     "name": "stdout",
     "output_type": "stream",
     "text": [
      "hi\n",
      "I have said 'hello' to you.\n"
     ]
    }
   ],
   "source": [
    "hello = \"hi\"\n",
    "try:\n",
    "    print(hello)\n",
    "except:\n",
    "    print(\"the variable 'hello' is undefined!\")\n",
    "else:\n",
    "    print(\"I have said 'hello' to you.\")"
   ]
  },
  {
   "cell_type": "markdown",
   "metadata": {},
   "source": [
    "Explain OOP to yourself and what are the three unique defining things of OOP?"
   ]
  },
  {
   "cell_type": "code",
   "execution_count": 10,
   "metadata": {},
   "outputs": [],
   "source": [
    "# OOP is short for \"object oriented programming\"\n",
    "# in OOP data types are represented as \"objects\".\n",
    "# objects can save data in the form of member variables and they can define functions which belong to a certain object.\n",
    "\n",
    "# the definition of an object is a \"class\", and the object is an instance of a class.\n",
    "# multiple objects of the same class can be created (instanciated),\n",
    "# which then have the same functionality but different properties (content of the variables)\n",
    "\n",
    "# Inheritance: classes can be inherited, so that a class derived from another class can use everything from the base class\n",
    "# and extend the functionality, making it a more specialized class\n",
    "# Polymorphism: different classes which are derived from a common base class can have a different or specialized\n",
    "# implementation of a certain method (dog.speak() vs. cat.speak())\n",
    "# Encapsulation: a class can define public or private functions to allow a user of this class only call a defined set\n",
    "# of methods. The implementation is hidden from the user, therefore it can be changed without breaking the user's code.\n",
    "# although in Python encapsulation is not strictly enforced, and can be overridden.\n"
   ]
  },
  {
   "cell_type": "markdown",
   "metadata": {},
   "source": [
    "Make an example of polymorphism and comment where the polymorphism is occuring. What is polymorphism?"
   ]
  },
  {
   "cell_type": "code",
   "execution_count": 11,
   "metadata": {},
   "outputs": [],
   "source": [
    "class Food():\n",
    "    def __init__(self, ideal_temperature):\n",
    "        self.ideal_temperature = ideal_temperature\n",
    "        \n",
    "    def cook(self):\n",
    "        if self.temperature < self.ideal_temperature:\n",
    "            self.temperature += 10\n",
    "        \n",
    "    def isCooked(self):\n",
    "        if self.temperature >= self.ideal_temperature:\n",
    "            return True\n",
    "        else:\n",
    "            return False\n",
    "\n",
    "class Soup(Food):\n",
    "    def __init__(self):\n",
    "        super().__init__(150)\n",
    "        \n",
    "    def eat(self):\n",
    "        print(\"use spoon!\")\n",
    "        \n",
    "class Pasta(Food):\n",
    "    def __init__(self):\n",
    "        super().__init__(180)\n",
    "\n",
    "    def eat(self):\n",
    "        print(\"use fork and spoon!\")\n",
    "        \n",
    "class Steak(Food):\n",
    "    def __init__(self):\n",
    "        super().__init__(145)\n",
    "\n",
    "    def eat(self):\n",
    "        print(\"use fork and knife!\")\n",
    "\n",
    "class Pizza(Food):\n",
    "    def __init__(self):\n",
    "        super().__init__(450)\n",
    "\n",
    "    def eat(self):\n",
    "        print(\"use your fingers!\")\n",
    "\n",
    "# different type of food require a different type of eating,\n",
    "# they are basically the same, but the eat() method is implemented differently for each inherited class"
   ]
  },
  {
   "cell_type": "markdown",
   "metadata": {},
   "source": [
    "Explain what composition is versus inheritance?"
   ]
  },
  {
   "cell_type": "code",
   "execution_count": 12,
   "metadata": {},
   "outputs": [],
   "source": [
    "# compsition is a \"has a\" relation. inheritance is a \"is a\" relation.\n",
    "# when using inheritance, then the inherited class is also a parent class, but has some specializations.\n",
    "# e.g. a Cat is an Animal, Pizza is Food\n",
    "\n",
    "# when using composition, then one class contains a reference to another class.\n",
    "# e.g. a car has wheels, a house has rooms"
   ]
  },
  {
   "cell_type": "markdown",
   "metadata": {},
   "source": [
    "Make a Vehicle class and allow the car, truck, and tank class inherit from it. "
   ]
  },
  {
   "cell_type": "code",
   "execution_count": 13,
   "metadata": {},
   "outputs": [],
   "source": [
    "class Vehicle():\n",
    "    pass\n",
    "\n",
    "class Car(Vehicle):\n",
    "    pass\n",
    "\n",
    "class Truck(Vehicle):\n",
    "    pass\n",
    "\n",
    "class Tank(Vehicle):\n",
    "    pass"
   ]
  },
  {
   "cell_type": "markdown",
   "metadata": {},
   "source": [
    "Explain a is-a versus has-a relationship.\n",
    "Explain how many types of relationships there are OOP. What are the three?"
   ]
  },
  {
   "cell_type": "code",
   "execution_count": 14,
   "metadata": {},
   "outputs": [],
   "source": [
    "# a car is a vehicle, because the car can do what a vehicle can do.\n",
    "# the 3 relationships are: inheritance, composition, ???"
   ]
  },
  {
   "cell_type": "markdown",
   "metadata": {},
   "source": [
    "Create a protected variable/attribute for your Vehicle class now"
   ]
  },
  {
   "cell_type": "code",
   "execution_count": 15,
   "metadata": {},
   "outputs": [],
   "source": [
    "class Vehicle():\n",
    "    def __init__(self):\n",
    "        self._color = \"red\"\n",
    "        self.__speed = 50\n",
    "\n",
    "class Car(Vehicle):\n",
    "#     def __init__(self):\n",
    "#         super().__init__()\n",
    "    pass\n",
    "\n",
    "class Truck(Vehicle):\n",
    "    pass\n",
    "\n",
    "class Tank(Vehicle):\n",
    "    pass"
   ]
  },
  {
   "cell_type": "markdown",
   "metadata": {},
   "source": [
    "Create a private variable/attribute in your Vehicle class now"
   ]
  },
  {
   "cell_type": "markdown",
   "metadata": {},
   "source": [
    "Can I access the protected and private variables? (Yes or No and why?)"
   ]
  },
  {
   "cell_type": "code",
   "execution_count": 16,
   "metadata": {},
   "outputs": [
    {
     "name": "stdout",
     "output_type": "stream",
     "text": [
      "red\n",
      "50\n"
     ]
    }
   ],
   "source": [
    "c = Car()\n",
    "print(c._color)\n",
    "print(c._Vehicle__speed)"
   ]
  },
  {
   "cell_type": "code",
   "execution_count": null,
   "metadata": {},
   "outputs": [],
   "source": [
    "# yes, the protected and private variables can be accessed,\n",
    "# because in Python the concept of public/private/protected is only a convention,\n",
    "# and the language does not restrict the access to those variables.\n",
    "# in practice it should not be done."
   ]
  }
 ],
 "metadata": {
  "kernelspec": {
   "display_name": "Python 3",
   "language": "python",
   "name": "python3"
  },
  "language_info": {
   "codemirror_mode": {
    "name": "ipython",
    "version": 3
   },
   "file_extension": ".py",
   "mimetype": "text/x-python",
   "name": "python",
   "nbconvert_exporter": "python",
   "pygments_lexer": "ipython3",
   "version": "3.7.6"
  }
 },
 "nbformat": 4,
 "nbformat_minor": 4
}
